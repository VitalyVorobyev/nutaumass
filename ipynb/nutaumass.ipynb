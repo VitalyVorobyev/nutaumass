{
 "cells": [
  {
   "cell_type": "code",
   "execution_count": 3,
   "metadata": {},
   "outputs": [],
   "source": [
    "import numpy as np\n",
    "import pandas as pd\n",
    "import matplotlib.pyplot as plt\n",
    "%matplotlib inline\n",
    "import itertools"
   ]
  },
  {
   "cell_type": "code",
   "execution_count": 4,
   "metadata": {},
   "outputs": [],
   "source": [
    "# path = '/home/vitaly/work/stark/work/run'\n",
    "path = '/home/vitaly/work/nuTauMass/'"
   ]
  },
  {
   "cell_type": "code",
   "execution_count": 5,
   "metadata": {},
   "outputs": [],
   "source": [
    "files = ['tau3pi_10Mev_zero_spread_mass_10MeV', 'tau3pi_10Mev_zero_spread', 'tau3pi_1Mev_zero_spread_mass_0MeV_phsp']"
   ]
  },
  {
   "cell_type": "code",
   "execution_count": 6,
   "metadata": {},
   "outputs": [],
   "source": [
    "idx = -1"
   ]
  },
  {
   "cell_type": "code",
   "execution_count": 7,
   "metadata": {},
   "outputs": [],
   "source": [
    "data = pd.read_pickle(f'{path}/data/{files[idx]}.pkl')"
   ]
  },
  {
   "cell_type": "code",
   "execution_count": 8,
   "metadata": {},
   "outputs": [
    {
     "name": "stderr",
     "output_type": "stream",
     "text": [
      "/home/vitaly/.local/lib/python3.7/site-packages/pandas/core/generic.py:2530: PerformanceWarning: \n",
      "your performance may suffer as PyTables will pickle object types that it cannot\n",
      "map directly to c-types [inferred_type->mixed,key->values] [items->None]\n",
      "\n",
      "  pytables.to_hdf(path_or_buf, key, self, **kwargs)\n"
     ]
    }
   ],
   "source": [
    "data.pdata.to_hdf(f'{files[idx]}.hdf', 'pdata')"
   ]
  },
  {
   "cell_type": "code",
   "execution_count": 9,
   "metadata": {},
   "outputs": [],
   "source": [
    "data = pd.read_hdf(f'{files[idx]}.hdf')"
   ]
  },
  {
   "cell_type": "code",
   "execution_count": 35,
   "metadata": {},
   "outputs": [
    {
     "data": {
      "text/plain": [
       "array([( 0, 10022, 3.55464005e+00,  0.0533196 ,  0.        ,  0.        , 0),\n",
       "       (-1,    15, 1.77681994e+00,  0.05009796, -0.0334562 ,  0.01041773, 1),\n",
       "       (-1,    13, 1.05658367e-01, -0.10587905, -0.57812476, -0.03122276, 2),\n",
       "       ( 0,   -14, 2.68634501e-08, -0.26030862,  0.61458474, -0.19581759, 2),\n",
       "       ( 0,    16, 0.00000000e+00,  0.41628563, -0.06991618,  0.23745808, 2),\n",
       "       ( 1,   -15, 1.77681994e+00,  0.00322164,  0.0334562 , -0.01041773, 1),\n",
       "       ( 1,   211, 1.39570177e-01, -0.00184685,  0.0166422 , -0.50154471, 3),\n",
       "       ( 1,   211, 1.39570177e-01,  0.31251147, -0.26680693,  0.12000925, 3),\n",
       "       (-1,  -211, 1.39570177e-01, -0.44909897,  0.25950679,  0.38619235, 3),\n",
       "       ( 0,   -16, 3.72529030e-09,  0.14165598,  0.02411415, -0.01507461, 3)],\n",
       "      dtype=[('ch', '<i8'), ('id', '<i8'), ('m', '<f8'), ('px', '<f8'), ('py', '<f8'), ('pz', '<f8'), ('vtxid', '<i8')])"
      ]
     },
     "execution_count": 35,
     "metadata": {},
     "output_type": "execute_result"
    }
   ],
   "source": [
    "data[0]"
   ]
  },
  {
   "cell_type": "code",
   "execution_count": 37,
   "metadata": {},
   "outputs": [
    {
     "data": {
      "text/plain": [
       "array([( 0, 10022,  3.55464005e+00,  0.0533196 ,  0.        ,  0.        , 0),\n",
       "       (-1,    15,  1.77681994e+00,  0.06127691, -0.02309504,  0.00675386, 1),\n",
       "       (-1,  -211,  1.39570177e-01,  0.23137   , -0.21055222,  0.42693681, 2),\n",
       "       (-1,  -211,  1.39570177e-01, -0.45359719,  0.03238858, -0.2212669 , 2),\n",
       "       ( 1,   211,  1.39570177e-01,  0.27383423,  0.35898551, -0.15358332, 2),\n",
       "       ( 0,    16, -5.26835597e-09,  0.00966989, -0.20391692, -0.04533273, 2),\n",
       "       ( 1,   -15,  1.77681994e+00, -0.00795731,  0.02309504, -0.00675386, 1),\n",
       "       ( 1,   211,  1.39570177e-01,  0.29417023,  0.02415206,  0.39684364, 3),\n",
       "       ( 1,   211,  1.39570177e-01, -0.06871111, -0.22055985, -0.4501597 , 3),\n",
       "       (-1,  -211,  1.39570177e-01,  0.03092694, -0.01014478, -0.24416159, 3),\n",
       "       ( 0,   -16,  2.58095678e-08, -0.26434338,  0.22964761,  0.29072377, 3)],\n",
       "      dtype=[('ch', '<i8'), ('id', '<i8'), ('m', '<f8'), ('px', '<f8'), ('py', '<f8'), ('pz', '<f8'), ('vtxid', '<i8')])"
      ]
     },
     "execution_count": 37,
     "metadata": {},
     "output_type": "execute_result"
    }
   ],
   "source": [
    "data.to_numpy()[1]"
   ]
  },
  {
   "cell_type": "code",
   "execution_count": 38,
   "metadata": {},
   "outputs": [
    {
     "data": {
      "text/plain": [
       "0.000500025000000015"
      ]
     },
     "execution_count": 38,
     "metadata": {},
     "output_type": "execute_result"
    }
   ],
   "source": [
    "sqrts = 3.55464005\n",
    "etau = 0.5 * sqrts\n",
    "mtau = 1.77682\n",
    "ptau = np.sqrt(etau**2 - mtau**2)\n",
    "etau - mtau"
   ]
  },
  {
   "cell_type": "code",
   "execution_count": 39,
   "metadata": {},
   "outputs": [],
   "source": [
    "def miss_mass_sq(p1, p2, p3):\n",
    "    pH = p1+p2+p3\n",
    "    pH[-1] -= ptau\n",
    "    return (etau - pH[0])**2 - np.sum(pH[1:]**2, axis=-1)"
   ]
  },
  {
   "cell_type": "code",
   "execution_count": 40,
   "metadata": {},
   "outputs": [],
   "source": [
    "def mH(p1, p2, p3):\n",
    "    pH = p1+p2+p3\n",
    "    return np.sqrt(pH[0]**2 - np.sum(pH[1:]**2, axis=-1))"
   ]
  },
  {
   "cell_type": "code",
   "execution_count": 41,
   "metadata": {},
   "outputs": [],
   "source": [
    "def candidates(event):\n",
    "    result = []\n",
    "    pions = pd.DataFrame.from_records(event)\n",
    "    pions = pions[abs(event['id']) == 211]\n",
    "    pions['E'] = pions.apply(lambda x: np.sqrt(x.m**2+x.px**2+x.py**2+x.pz**2), axis=1)\n",
    "    mom = pions[['E','px','py','pz']]\n",
    "    for p1, p2, p3 in itertools.combinations(mom.values, r=3):\n",
    "        result.append([\n",
    "            miss_mass_sq(p1, p2, p3),\n",
    "            mH(p1, p2, p3)\n",
    "        ])\n",
    "    return result"
   ]
  },
  {
   "cell_type": "code",
   "execution_count": 42,
   "metadata": {},
   "outputs": [
    {
     "name": "stdout",
     "output_type": "stream",
     "text": [
      "CPU times: user 27.2 s, sys: 1.12 ms, total: 27.2 s\n",
      "Wall time: 27.2 s\n"
     ]
    }
   ],
   "source": [
    "%%time\n",
    "cands = []\n",
    "for evt in data[:5000]:\n",
    "    cands += candidates(evt)\n",
    "cands = np.array(cands)"
   ]
  },
  {
   "cell_type": "code",
   "execution_count": 43,
   "metadata": {},
   "outputs": [],
   "source": [
    "def select_abs_min(x):\n",
    "    return x[np.argmin(abs(np.array(x)[:,0]))]"
   ]
  },
  {
   "cell_type": "code",
   "execution_count": 45,
   "metadata": {},
   "outputs": [
    {
     "name": "stdout",
     "output_type": "stream",
     "text": [
      "CPU times: user 23 s, sys: 7.04 ms, total: 23 s\n",
      "Wall time: 23 s\n"
     ]
    }
   ],
   "source": [
    "%%time\n",
    "cs = data[:5000].apply(candidates)"
   ]
  },
  {
   "cell_type": "code",
   "execution_count": 46,
   "metadata": {},
   "outputs": [
    {
     "name": "stdout",
     "output_type": "stream",
     "text": [
      "CPU times: user 103 ms, sys: 4.23 ms, total: 108 ms\n",
      "Wall time: 95.8 ms\n"
     ]
    }
   ],
   "source": [
    "%%time\n",
    "csfil = cs.apply(select_abs_min)"
   ]
  },
  {
   "cell_type": "code",
   "execution_count": 47,
   "metadata": {},
   "outputs": [
    {
     "data": {
      "image/png": "[encoded data removed]",
      "text/plain": [
       "<Figure size 720x432 with 1 Axes>"
      ]
     },
     "metadata": {
      "needs_background": "light"
     },
     "output_type": "display_data"
    }
   ],
   "source": [
    "masssq = np.array([x[0] for x in csfil])\n",
    "masssq = masssq[abs(masssq)<0.2]\n",
    "plt.figure(figsize=(10,6))\n",
    "plt.hist(masssq,bins=150)\n",
    "plt.grid()"
   ]
  },
  {
   "cell_type": "code",
   "execution_count": 48,
   "metadata": {},
   "outputs": [
    {
     "data": {
      "image/png": "[encoded data removed]",
      "text/plain": [
       "<Figure size 720x432 with 1 Axes>"
      ]
     },
     "metadata": {
      "needs_background": "light"
     },
     "output_type": "display_data"
    }
   ],
   "source": [
    "masshad = np.array([x[1] for x in csfil])\n",
    "masshad = masshad[masshad>1.4]\n",
    "plt.figure(figsize=(10,6))\n",
    "plt.hist(masshad,bins=150)\n",
    "plt.grid()"
   ]
  },
  {
   "cell_type": "code",
   "execution_count": null,
   "metadata": {},
   "outputs": [],
   "source": []
  }
 ],
 "metadata": {
  "kernelspec": {
   "display_name": "Python 3",
   "language": "python",
   "name": "python3"
  },
  "language_info": {
   "codemirror_mode": {
    "name": "ipython",
    "version": 3
   },
   "file_extension": ".py",
   "mimetype": "text/x-python",
   "name": "python",
   "nbconvert_exporter": "python",
   "pygments_lexer": "ipython3",
   "version": "3.7.5"
  }
 },
 "nbformat": 4,
 "nbformat_minor": 2
}
